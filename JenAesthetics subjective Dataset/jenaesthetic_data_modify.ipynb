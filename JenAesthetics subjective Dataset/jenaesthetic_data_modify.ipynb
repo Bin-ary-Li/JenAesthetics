{
 "cells": [
  {
   "cell_type": "code",
   "execution_count": 1,
   "metadata": {},
   "outputs": [
    {
     "data": {
      "text/plain": [
       "'Aalto1'"
      ]
     },
     "execution_count": 1,
     "metadata": {},
     "output_type": "execute_result"
    }
   ],
   "source": [
    "import pandas as pd\n",
    "\n",
    "open('File Name.txt','r').readlines()[:1][0][:-2]"
   ]
  },
  {
   "cell_type": "code",
   "execution_count": 2,
   "metadata": {
    "collapsed": true
   },
   "outputs": [],
   "source": [
    "filename = []\n",
    "for line in open('File Name.txt','r'):\n",
    "    singlefile = str(line[:-2])\n",
    "    filename.append(singlefile)\n",
    "    "
   ]
  },
  {
   "cell_type": "code",
   "execution_count": 3,
   "metadata": {},
   "outputs": [
    {
     "data": {
      "text/plain": [
       "['Zurbaran1',\n",
       " 'Zurbaran10',\n",
       " 'Zurbaran2',\n",
       " 'Zurbaran3',\n",
       " 'Zurbaran4',\n",
       " 'Zurbaran5',\n",
       " 'Zurbaran6',\n",
       " 'Zurbaran7',\n",
       " 'Zurbaran8',\n",
       " 'Zurbaran9']"
      ]
     },
     "execution_count": 3,
     "metadata": {},
     "output_type": "execute_result"
    }
   ],
   "source": [
    "filename[-10:]"
   ]
  },
  {
   "cell_type": "code",
   "execution_count": 4,
   "metadata": {},
   "outputs": [
    {
     "data": {
      "text/plain": [
       "['http://upload.wikimedia.org/wikipedia/commons/3/35/Francisco_de_Zurbar%C3%A1n_-_Saint_Francis_of_Assisi_according_to_Pope_Nicholas_V%27s_Vision_-_Google_Art_Project.jpg',\n",
       " 'http://upload.wikimedia.org/wikipedia/commons/f/fd/Francisco_de_Zurbar%C3%A1n_-_The_Virgin_and_Child_with_the_Infant_St_John_the_Baptist_-_Google_Art_Project.jpg',\n",
       " 'http://upload.wikimedia.org/wikipedia/commons/6/60/Francisco_de_Zurbar%C3%A1n%2C_Spanish_-_The_Annunciation_-_Google_Art_Project.jpg',\n",
       " 'http://upload.wikimedia.org/wikipedia/commons/6/65/Francisco_de_Zurbar%C3%A1n_-_Saint_Elizabeth_of_Thuringia_-_Google_Art_Project.jpg',\n",
       " 'http://upload.wikimedia.org/wikipedia/commons/7/75/Francisco_de_Zurbar%C3%A1n_and_Studio_-_The_Archangel_Michael_-_Google_Art_Project.jpg']"
      ]
     },
     "execution_count": 4,
     "metadata": {},
     "output_type": "execute_result"
    }
   ],
   "source": [
    "imageurl = []\n",
    "for line in open('File link.txt','r'):\n",
    "    singlefile = str(line[:-2])\n",
    "    imageurl.append(singlefile)\n",
    "imageurl[-5:]"
   ]
  },
  {
   "cell_type": "code",
   "execution_count": 8,
   "metadata": {},
   "outputs": [
    {
     "name": "stdout",
     "output_type": "stream",
     "text": [
      "{'yes': 1}\n"
     ]
    }
   ],
   "source": [
    "randomdict = {}\n",
    "randomdict['yes'] = 1\n",
    "print randomdict"
   ]
  },
  {
   "cell_type": "code",
   "execution_count": 9,
   "metadata": {},
   "outputs": [],
   "source": [
    "import urllib\n",
    "downloadFail = {}\n",
    "def downloadimage(imageurl, imagename):\n",
    "    for index, url in enumerate(imageurl):\n",
    "        print \"downloading \" + imagename[index]\n",
    "        try:\n",
    "            urllib.urlretrieve(url, \"./imagefiles/\" + imagename[index] + \".jpg\")\n",
    "            print imagename[index] + \" downloaded.\"\n",
    "        except:\n",
    "            print imagename[index] + \" failed.\"\n",
    "            downloadFail[imagename[index]] = url\n",
    "            \n",
    "        "
   ]
  },
  {
   "cell_type": "code",
   "execution_count": null,
   "metadata": {},
   "outputs": [
    {
     "name": "stdout",
     "output_type": "stream",
     "text": [
      "downloading Aalto1\n",
      "Aalto1 downloaded.\n",
      "downloading Aalto2\n",
      "Aalto2 downloaded.\n",
      "downloading Aertsen1\n",
      "Aertsen1 downloaded.\n",
      "downloading Aertsen2\n",
      "Aertsen2 downloaded.\n",
      "downloading Aertsen3\n",
      "Aertsen3 downloaded.\n",
      "downloading Aivazovsky 2\n",
      "Aivazovsky 2 downloaded.\n",
      "downloading Aivazovsky1\n",
      "Aivazovsky1 downloaded.\n",
      "downloading Albani1\n",
      "Albani1 failed.\n",
      "downloading Alcazar1\n",
      "Alcazar1 downloaded.\n",
      "downloading Alcazar2\n",
      "Alcazar2 downloaded.\n",
      "downloading Alcazar3\n",
      "Alcazar3 downloaded.\n",
      "downloading Allori1\n",
      "Allori1 downloaded.\n",
      "downloading Altdorfer 1\n",
      "Altdorfer 1 failed.\n",
      "downloading Altdorfer1\n",
      "Altdorfer1 downloaded.\n",
      "downloading AmanJean1\n",
      "AmanJean1 downloaded.\n",
      "downloading Amigoni1\n",
      "Amigoni1 downloaded.\n",
      "downloading Arcimboldo1\n",
      "Arcimboldo1 downloaded.\n",
      "downloading Arcimboldo2\n",
      "Arcimboldo2 downloaded.\n",
      "downloading Arcimboldo3\n"
     ]
    }
   ],
   "source": [
    "downloadimage(imageurl, filename)"
   ]
  },
  {
   "cell_type": "code",
   "execution_count": null,
   "metadata": {
    "collapsed": true
   },
   "outputs": [],
   "source": []
  }
 ],
 "metadata": {
  "kernelspec": {
   "display_name": "Python 2",
   "language": "python",
   "name": "python2"
  },
  "language_info": {
   "codemirror_mode": {
    "name": "ipython",
    "version": 2
   },
   "file_extension": ".py",
   "mimetype": "text/x-python",
   "name": "python",
   "nbconvert_exporter": "python",
   "pygments_lexer": "ipython2",
   "version": "2.7.13"
  }
 },
 "nbformat": 4,
 "nbformat_minor": 2
}
